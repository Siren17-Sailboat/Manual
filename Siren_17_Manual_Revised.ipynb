{
  "nbformat": 4,
  "nbformat_minor": 0,
  "metadata": {
    "colab": {
      "name": "Siren 17 Manual Revised.ipynb",
      "provenance": [],
      "collapsed_sections": [],
      "authorship_tag": "ABX9TyMpmSJ7cfHIINmeVK/eexm4",
      "include_colab_link": true
    },
    "kernelspec": {
      "name": "python3",
      "display_name": "Python 3"
    }
  },
  "cells": [
    {
      "cell_type": "markdown",
      "metadata": {
        "id": "view-in-github",
        "colab_type": "text"
      },
      "source": [
        "<a href=\"https://colab.research.google.com/github/Siren17-Sailboat/Manual/blob/main/Siren_17_Manual_Revised.ipynb\" target=\"_parent\"><img src=\"https://colab.research.google.com/assets/colab-badge.svg\" alt=\"Open In Colab\"/></a>"
      ]
    },
    {
      "cell_type": "markdown",
      "metadata": {
        "id": "HnpyVlnR2g-m"
      },
      "source": [
        "\n",
        "\n",
        "<p><img alt=\"Colaboratory logo\" height=\"45px\" src=\"/img/colab_favicon.ico\" align=\"left\" hspace=\"10px\" vspace=\"0px\"></p>\n",
        "\n",
        "<h1>Colaboratory</h1>\n",
        "\n",
        "[Colaboratory](https://colab.research.google.com/), or \"Colab\", allows you to write and run Python code and manuals in your browser in a collaborative fashion\n",
        "\n",
        "Watch the [presentation](https://www.youtube.com/watch?v=inN8seMm7UI) to learn the basic and start participating right now."
      ]
    },
    {
      "cell_type": "markdown",
      "metadata": {
        "id": "Wv58MJDK5CGH"
      },
      "source": [
        "\n",
        "\n",
        "<p><img alt=\"Colaboratory logo\" height=\"45px\" src=\"/img/colab_favicon.ico\" align=\"left\" hspace=\"10px\" vspace=\"0px\"></p>\n",
        "\n",
        "<h1>Colaboratory</h1>\n",
        "\n",
        "[Colaboratory](https://colab.research.google.com/), or \"Colab\", allows you to write and run Python code and manuals in your browser in a collaborative fashion\n",
        "\n",
        "Watch the [presentation](https://www.youtube.com/watch?v=inN8seMm7UI) to learn the basic and start participating right now."
      ]
    }
  ]
}